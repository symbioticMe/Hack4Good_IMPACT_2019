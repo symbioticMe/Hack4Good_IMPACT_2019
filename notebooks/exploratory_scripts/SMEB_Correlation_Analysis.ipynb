{
 "cells": [
  {
   "cell_type": "code",
   "execution_count": 1,
   "metadata": {},
   "outputs": [],
   "source": [
    "import pandas as pd\n",
    "from datetime import datetime as dt\n",
    "import numpy as np\n",
    "from matplotlib import pyplot as plt"
   ]
  },
  {
   "cell_type": "markdown",
   "metadata": {},
   "source": [
    "## Preprocessing"
   ]
  },
  {
   "cell_type": "code",
   "execution_count": 2,
   "metadata": {
    "scrolled": false
   },
   "outputs": [
    {
     "data": {
      "text/html": [
       "<div>\n",
       "<style scoped>\n",
       "    .dataframe tbody tr th:only-of-type {\n",
       "        vertical-align: middle;\n",
       "    }\n",
       "\n",
       "    .dataframe tbody tr th {\n",
       "        vertical-align: top;\n",
       "    }\n",
       "\n",
       "    .dataframe thead th {\n",
       "        text-align: right;\n",
       "    }\n",
       "</style>\n",
       "<table border=\"1\" class=\"dataframe\">\n",
       "  <thead>\n",
       "    <tr style=\"text-align: right;\">\n",
       "      <th></th>\n",
       "      <th>Unnamed: 0</th>\n",
       "      <th>Month</th>\n",
       "      <th>region</th>\n",
       "      <th>q_gov</th>\n",
       "      <th>q_district</th>\n",
       "      <th>q_sbd</th>\n",
       "      <th>q_bread_price_per_8pieces</th>\n",
       "      <th>q_bulgur_price_per_kilo</th>\n",
       "      <th>q_chicken_price_per_kilo</th>\n",
       "      <th>q_eggs_price_per_30eggs</th>\n",
       "      <th>...</th>\n",
       "      <th>smeb_food</th>\n",
       "      <th>smeb_nfi</th>\n",
       "      <th>smeb_cookingfuels</th>\n",
       "      <th>trans_fuel</th>\n",
       "      <th>smeb_complete</th>\n",
       "      <th>smeb_only_missing_water</th>\n",
       "      <th>smeb_total_float</th>\n",
       "      <th>smeb_sanswater_float</th>\n",
       "      <th>smeb_incomplete</th>\n",
       "      <th>smeb_usd</th>\n",
       "    </tr>\n",
       "  </thead>\n",
       "  <tbody>\n",
       "    <tr>\n",
       "      <th>0</th>\n",
       "      <td>1</td>\n",
       "      <td>April 18</td>\n",
       "      <td>northeast</td>\n",
       "      <td>SY02</td>\n",
       "      <td>SY0205</td>\n",
       "      <td>SY020500</td>\n",
       "      <td>100.0</td>\n",
       "      <td>250.0</td>\n",
       "      <td>690.0</td>\n",
       "      <td>900.0</td>\n",
       "      <td>...</td>\n",
       "      <td>42733.0</td>\n",
       "      <td>3674.00</td>\n",
       "      <td>2500.0</td>\n",
       "      <td>212.000000</td>\n",
       "      <td>True</td>\n",
       "      <td>False</td>\n",
       "      <td>58447.21250</td>\n",
       "      <td>55327.02500</td>\n",
       "      <td>54369.50</td>\n",
       "      <td>123.960154</td>\n",
       "    </tr>\n",
       "    <tr>\n",
       "      <th>1</th>\n",
       "      <td>2</td>\n",
       "      <td>April 18</td>\n",
       "      <td>northeast</td>\n",
       "      <td>SY02</td>\n",
       "      <td>SY0206</td>\n",
       "      <td>SY020600</td>\n",
       "      <td>80.0</td>\n",
       "      <td>220.0</td>\n",
       "      <td>825.0</td>\n",
       "      <td>800.0</td>\n",
       "      <td>...</td>\n",
       "      <td>40592.5</td>\n",
       "      <td>5306.00</td>\n",
       "      <td>2625.0</td>\n",
       "      <td>170.666667</td>\n",
       "      <td>True</td>\n",
       "      <td>False</td>\n",
       "      <td>57591.51250</td>\n",
       "      <td>55172.76250</td>\n",
       "      <td>53573.50</td>\n",
       "      <td>129.128952</td>\n",
       "    </tr>\n",
       "    <tr>\n",
       "      <th>2</th>\n",
       "      <td>3</td>\n",
       "      <td>April 18</td>\n",
       "      <td>northeast</td>\n",
       "      <td>SY02</td>\n",
       "      <td>SY0206</td>\n",
       "      <td>SY020601</td>\n",
       "      <td>80.0</td>\n",
       "      <td>240.0</td>\n",
       "      <td>850.0</td>\n",
       "      <td>850.0</td>\n",
       "      <td>...</td>\n",
       "      <td>40572.5</td>\n",
       "      <td>5180.25</td>\n",
       "      <td>2750.0</td>\n",
       "      <td>61.000000</td>\n",
       "      <td>True</td>\n",
       "      <td>False</td>\n",
       "      <td>58090.58125</td>\n",
       "      <td>55042.95625</td>\n",
       "      <td>54037.75</td>\n",
       "      <td>129.377687</td>\n",
       "    </tr>\n",
       "    <tr>\n",
       "      <th>3</th>\n",
       "      <td>4</td>\n",
       "      <td>April 18</td>\n",
       "      <td>northeast</td>\n",
       "      <td>SY02</td>\n",
       "      <td>SY0206</td>\n",
       "      <td>SY020602</td>\n",
       "      <td>80.0</td>\n",
       "      <td>225.0</td>\n",
       "      <td>800.0</td>\n",
       "      <td>850.0</td>\n",
       "      <td>...</td>\n",
       "      <td>41717.5</td>\n",
       "      <td>5134.25</td>\n",
       "      <td>2750.0</td>\n",
       "      <td>61.000000</td>\n",
       "      <td>True</td>\n",
       "      <td>False</td>\n",
       "      <td>57546.63125</td>\n",
       "      <td>54934.38125</td>\n",
       "      <td>53531.75</td>\n",
       "      <td>123.490625</td>\n",
       "    </tr>\n",
       "    <tr>\n",
       "      <th>4</th>\n",
       "      <td>5</td>\n",
       "      <td>April 18</td>\n",
       "      <td>northeast</td>\n",
       "      <td>SY08</td>\n",
       "      <td>SY0800</td>\n",
       "      <td>SY080000</td>\n",
       "      <td>125.0</td>\n",
       "      <td>275.0</td>\n",
       "      <td>775.0</td>\n",
       "      <td>900.0</td>\n",
       "      <td>...</td>\n",
       "      <td>42550.0</td>\n",
       "      <td>5125.00</td>\n",
       "      <td>2000.0</td>\n",
       "      <td>90.000000</td>\n",
       "      <td>False</td>\n",
       "      <td>True</td>\n",
       "      <td>NaN</td>\n",
       "      <td>55550.62500</td>\n",
       "      <td>51675.00</td>\n",
       "      <td>NaN</td>\n",
       "    </tr>\n",
       "  </tbody>\n",
       "</table>\n",
       "<p>5 rows × 77 columns</p>\n",
       "</div>"
      ],
      "text/plain": [
       "   Unnamed: 0     Month     region q_gov q_district     q_sbd  \\\n",
       "0           1  April 18  northeast  SY02     SY0205  SY020500   \n",
       "1           2  April 18  northeast  SY02     SY0206  SY020600   \n",
       "2           3  April 18  northeast  SY02     SY0206  SY020601   \n",
       "3           4  April 18  northeast  SY02     SY0206  SY020602   \n",
       "4           5  April 18  northeast  SY08     SY0800  SY080000   \n",
       "\n",
       "   q_bread_price_per_8pieces  q_bulgur_price_per_kilo  \\\n",
       "0                      100.0                    250.0   \n",
       "1                       80.0                    220.0   \n",
       "2                       80.0                    240.0   \n",
       "3                       80.0                    225.0   \n",
       "4                      125.0                    275.0   \n",
       "\n",
       "   q_chicken_price_per_kilo  q_eggs_price_per_30eggs     ...      smeb_food  \\\n",
       "0                     690.0                    900.0     ...        42733.0   \n",
       "1                     825.0                    800.0     ...        40592.5   \n",
       "2                     850.0                    850.0     ...        40572.5   \n",
       "3                     800.0                    850.0     ...        41717.5   \n",
       "4                     775.0                    900.0     ...        42550.0   \n",
       "\n",
       "   smeb_nfi  smeb_cookingfuels  trans_fuel  smeb_complete  \\\n",
       "0   3674.00             2500.0  212.000000           True   \n",
       "1   5306.00             2625.0  170.666667           True   \n",
       "2   5180.25             2750.0   61.000000           True   \n",
       "3   5134.25             2750.0   61.000000           True   \n",
       "4   5125.00             2000.0   90.000000          False   \n",
       "\n",
       "   smeb_only_missing_water  smeb_total_float  smeb_sanswater_float  \\\n",
       "0                    False       58447.21250           55327.02500   \n",
       "1                    False       57591.51250           55172.76250   \n",
       "2                    False       58090.58125           55042.95625   \n",
       "3                    False       57546.63125           54934.38125   \n",
       "4                     True               NaN           55550.62500   \n",
       "\n",
       "   smeb_incomplete    smeb_usd  \n",
       "0         54369.50  123.960154  \n",
       "1         53573.50  129.128952  \n",
       "2         54037.75  129.377687  \n",
       "3         53531.75  123.490625  \n",
       "4         51675.00         NaN  \n",
       "\n",
       "[5 rows x 77 columns]"
      ]
     },
     "execution_count": 2,
     "metadata": {},
     "output_type": "execute_result"
    }
   ],
   "source": [
    "smeb_df= pd.read_csv('SMEB_sbd_level 2019-10-29 .csv')\n",
    "smeb_df.head()"
   ]
  },
  {
   "cell_type": "markdown",
   "metadata": {},
   "source": [
    "Removing price columns and changing date format so that it follows the calender order and not treat it as a string"
   ]
  },
  {
   "cell_type": "code",
   "execution_count": 3,
   "metadata": {},
   "outputs": [],
   "source": [
    "smeb_only_df = smeb_df.copy()\n",
    "\n",
    "for col in smeb_df.columns:\n",
    "    if (\"price\" in col) or (\"nonstandard\" in col):\n",
    "        smeb_only_df.drop(columns=[col], inplace=True)\n",
    "\n",
    "smeb_only_df['Month'] = smeb_only_df['Month'].apply(lambda x : pd.to_datetime(x, format = \"%B %y\", errors='ignore'))\n",
    "smeb_only_df['Month'] = smeb_only_df['Month'].apply(lambda x : pd.to_datetime(x, format = \"%b %y\", errors='ignore'))"
   ]
  },
  {
   "cell_type": "code",
   "execution_count": 5,
   "metadata": {},
   "outputs": [
    {
     "data": {
      "text/html": [
       "<div>\n",
       "<style scoped>\n",
       "    .dataframe tbody tr th:only-of-type {\n",
       "        vertical-align: middle;\n",
       "    }\n",
       "\n",
       "    .dataframe tbody tr th {\n",
       "        vertical-align: top;\n",
       "    }\n",
       "\n",
       "    .dataframe thead th {\n",
       "        text-align: right;\n",
       "    }\n",
       "</style>\n",
       "<table border=\"1\" class=\"dataframe\">\n",
       "  <thead>\n",
       "    <tr style=\"text-align: right;\">\n",
       "      <th></th>\n",
       "      <th>Unnamed: 0</th>\n",
       "      <th>Month</th>\n",
       "      <th>region</th>\n",
       "      <th>q_gov</th>\n",
       "      <th>q_district</th>\n",
       "      <th>q_sbd</th>\n",
       "      <th>q_xrate_usdsyp_sell</th>\n",
       "      <th>q_smeb_bread</th>\n",
       "      <th>q_smeb_bulgur</th>\n",
       "      <th>q_smeb_chicken</th>\n",
       "      <th>...</th>\n",
       "      <th>smeb_food</th>\n",
       "      <th>smeb_nfi</th>\n",
       "      <th>smeb_cookingfuels</th>\n",
       "      <th>trans_fuel</th>\n",
       "      <th>smeb_complete</th>\n",
       "      <th>smeb_only_missing_water</th>\n",
       "      <th>smeb_total_float</th>\n",
       "      <th>smeb_sanswater_float</th>\n",
       "      <th>smeb_incomplete</th>\n",
       "      <th>smeb_usd</th>\n",
       "    </tr>\n",
       "  </thead>\n",
       "  <tbody>\n",
       "    <tr>\n",
       "      <th>0</th>\n",
       "      <td>1</td>\n",
       "      <td>2018-04-01 00:00:00</td>\n",
       "      <td>northeast</td>\n",
       "      <td>SY02</td>\n",
       "      <td>SY0205</td>\n",
       "      <td>SY020500</td>\n",
       "      <td>471.5</td>\n",
       "      <td>3700.0</td>\n",
       "      <td>3750.0</td>\n",
       "      <td>4140.0</td>\n",
       "      <td>...</td>\n",
       "      <td>42733.0</td>\n",
       "      <td>3674.00</td>\n",
       "      <td>2500.0</td>\n",
       "      <td>212.000000</td>\n",
       "      <td>True</td>\n",
       "      <td>False</td>\n",
       "      <td>58447.21250</td>\n",
       "      <td>55327.02500</td>\n",
       "      <td>54369.50</td>\n",
       "      <td>123.960154</td>\n",
       "    </tr>\n",
       "    <tr>\n",
       "      <th>1</th>\n",
       "      <td>2</td>\n",
       "      <td>2018-04-01 00:00:00</td>\n",
       "      <td>northeast</td>\n",
       "      <td>SY02</td>\n",
       "      <td>SY0206</td>\n",
       "      <td>SY020600</td>\n",
       "      <td>446.0</td>\n",
       "      <td>2960.0</td>\n",
       "      <td>3300.0</td>\n",
       "      <td>4950.0</td>\n",
       "      <td>...</td>\n",
       "      <td>40592.5</td>\n",
       "      <td>5306.00</td>\n",
       "      <td>2625.0</td>\n",
       "      <td>170.666667</td>\n",
       "      <td>True</td>\n",
       "      <td>False</td>\n",
       "      <td>57591.51250</td>\n",
       "      <td>55172.76250</td>\n",
       "      <td>53573.50</td>\n",
       "      <td>129.128952</td>\n",
       "    </tr>\n",
       "    <tr>\n",
       "      <th>2</th>\n",
       "      <td>3</td>\n",
       "      <td>2018-04-01 00:00:00</td>\n",
       "      <td>northeast</td>\n",
       "      <td>SY02</td>\n",
       "      <td>SY0206</td>\n",
       "      <td>SY020601</td>\n",
       "      <td>449.0</td>\n",
       "      <td>2960.0</td>\n",
       "      <td>3600.0</td>\n",
       "      <td>5100.0</td>\n",
       "      <td>...</td>\n",
       "      <td>40572.5</td>\n",
       "      <td>5180.25</td>\n",
       "      <td>2750.0</td>\n",
       "      <td>61.000000</td>\n",
       "      <td>True</td>\n",
       "      <td>False</td>\n",
       "      <td>58090.58125</td>\n",
       "      <td>55042.95625</td>\n",
       "      <td>54037.75</td>\n",
       "      <td>129.377687</td>\n",
       "    </tr>\n",
       "    <tr>\n",
       "      <th>3</th>\n",
       "      <td>4</td>\n",
       "      <td>2018-04-01 00:00:00</td>\n",
       "      <td>northeast</td>\n",
       "      <td>SY02</td>\n",
       "      <td>SY0206</td>\n",
       "      <td>SY020602</td>\n",
       "      <td>466.0</td>\n",
       "      <td>2960.0</td>\n",
       "      <td>3375.0</td>\n",
       "      <td>4800.0</td>\n",
       "      <td>...</td>\n",
       "      <td>41717.5</td>\n",
       "      <td>5134.25</td>\n",
       "      <td>2750.0</td>\n",
       "      <td>61.000000</td>\n",
       "      <td>True</td>\n",
       "      <td>False</td>\n",
       "      <td>57546.63125</td>\n",
       "      <td>54934.38125</td>\n",
       "      <td>53531.75</td>\n",
       "      <td>123.490625</td>\n",
       "    </tr>\n",
       "    <tr>\n",
       "      <th>4</th>\n",
       "      <td>5</td>\n",
       "      <td>2018-04-01 00:00:00</td>\n",
       "      <td>northeast</td>\n",
       "      <td>SY08</td>\n",
       "      <td>SY0800</td>\n",
       "      <td>SY080000</td>\n",
       "      <td>465.0</td>\n",
       "      <td>4625.0</td>\n",
       "      <td>4125.0</td>\n",
       "      <td>4650.0</td>\n",
       "      <td>...</td>\n",
       "      <td>42550.0</td>\n",
       "      <td>5125.00</td>\n",
       "      <td>2000.0</td>\n",
       "      <td>90.000000</td>\n",
       "      <td>False</td>\n",
       "      <td>True</td>\n",
       "      <td>NaN</td>\n",
       "      <td>55550.62500</td>\n",
       "      <td>51675.00</td>\n",
       "      <td>NaN</td>\n",
       "    </tr>\n",
       "  </tbody>\n",
       "</table>\n",
       "<p>5 rows × 45 columns</p>\n",
       "</div>"
      ],
      "text/plain": [
       "   Unnamed: 0                Month     region q_gov q_district     q_sbd  \\\n",
       "0           1  2018-04-01 00:00:00  northeast  SY02     SY0205  SY020500   \n",
       "1           2  2018-04-01 00:00:00  northeast  SY02     SY0206  SY020600   \n",
       "2           3  2018-04-01 00:00:00  northeast  SY02     SY0206  SY020601   \n",
       "3           4  2018-04-01 00:00:00  northeast  SY02     SY0206  SY020602   \n",
       "4           5  2018-04-01 00:00:00  northeast  SY08     SY0800  SY080000   \n",
       "\n",
       "   q_xrate_usdsyp_sell  q_smeb_bread  q_smeb_bulgur  q_smeb_chicken  \\\n",
       "0                471.5        3700.0         3750.0          4140.0   \n",
       "1                446.0        2960.0         3300.0          4950.0   \n",
       "2                449.0        2960.0         3600.0          5100.0   \n",
       "3                466.0        2960.0         3375.0          4800.0   \n",
       "4                465.0        4625.0         4125.0          4650.0   \n",
       "\n",
       "      ...      smeb_food  smeb_nfi  smeb_cookingfuels  trans_fuel  \\\n",
       "0     ...        42733.0   3674.00             2500.0  212.000000   \n",
       "1     ...        40592.5   5306.00             2625.0  170.666667   \n",
       "2     ...        40572.5   5180.25             2750.0   61.000000   \n",
       "3     ...        41717.5   5134.25             2750.0   61.000000   \n",
       "4     ...        42550.0   5125.00             2000.0   90.000000   \n",
       "\n",
       "   smeb_complete  smeb_only_missing_water  smeb_total_float  \\\n",
       "0           True                    False       58447.21250   \n",
       "1           True                    False       57591.51250   \n",
       "2           True                    False       58090.58125   \n",
       "3           True                    False       57546.63125   \n",
       "4          False                     True               NaN   \n",
       "\n",
       "   smeb_sanswater_float  smeb_incomplete    smeb_usd  \n",
       "0           55327.02500         54369.50  123.960154  \n",
       "1           55172.76250         53573.50  129.128952  \n",
       "2           55042.95625         54037.75  129.377687  \n",
       "3           54934.38125         53531.75  123.490625  \n",
       "4           55550.62500         51675.00         NaN  \n",
       "\n",
       "[5 rows x 45 columns]"
      ]
     },
     "execution_count": 5,
     "metadata": {},
     "output_type": "execute_result"
    }
   ],
   "source": [
    "smeb_only_df.head()"
   ]
  },
  {
   "cell_type": "markdown",
   "metadata": {},
   "source": [
    "# Correlation Analysis"
   ]
  },
  {
   "cell_type": "markdown",
   "metadata": {},
   "source": [
    "In this section, we will have a general overview of correlations between similar items grouped by Month"
   ]
  },
  {
   "cell_type": "markdown",
   "metadata": {},
   "source": [
    "## Exploration"
   ]
  },
  {
   "cell_type": "markdown",
   "metadata": {},
   "source": [
    "Just for exploration, we first stick to lentils and rice. First we check the number of entries in each month, for lentiles and rice"
   ]
  },
  {
   "cell_type": "code",
   "execution_count": 6,
   "metadata": {},
   "outputs": [
    {
     "data": {
      "text/html": [
       "<div>\n",
       "<style scoped>\n",
       "    .dataframe tbody tr th:only-of-type {\n",
       "        vertical-align: middle;\n",
       "    }\n",
       "\n",
       "    .dataframe tbody tr th {\n",
       "        vertical-align: top;\n",
       "    }\n",
       "\n",
       "    .dataframe thead th {\n",
       "        text-align: right;\n",
       "    }\n",
       "</style>\n",
       "<table border=\"1\" class=\"dataframe\">\n",
       "  <thead>\n",
       "    <tr style=\"text-align: right;\">\n",
       "      <th></th>\n",
       "      <th>q_smeb_lentils</th>\n",
       "      <th>q_smeb_rice</th>\n",
       "    </tr>\n",
       "    <tr>\n",
       "      <th>Month</th>\n",
       "      <th></th>\n",
       "      <th></th>\n",
       "    </tr>\n",
       "  </thead>\n",
       "  <tbody>\n",
       "    <tr>\n",
       "      <th>2017-11-01 00:00:00</th>\n",
       "      <td>63</td>\n",
       "      <td>63</td>\n",
       "    </tr>\n",
       "    <tr>\n",
       "      <th>2017-12-01 00:00:00</th>\n",
       "      <td>70</td>\n",
       "      <td>70</td>\n",
       "    </tr>\n",
       "    <tr>\n",
       "      <th>2018-01-01 00:00:00</th>\n",
       "      <td>31</td>\n",
       "      <td>31</td>\n",
       "    </tr>\n",
       "    <tr>\n",
       "      <th>2018-02-01 00:00:00</th>\n",
       "      <td>62</td>\n",
       "      <td>63</td>\n",
       "    </tr>\n",
       "    <tr>\n",
       "      <th>2018-03-01 00:00:00</th>\n",
       "      <td>54</td>\n",
       "      <td>55</td>\n",
       "    </tr>\n",
       "    <tr>\n",
       "      <th>2018-04-01 00:00:00</th>\n",
       "      <td>64</td>\n",
       "      <td>64</td>\n",
       "    </tr>\n",
       "    <tr>\n",
       "      <th>2018-05-01 00:00:00</th>\n",
       "      <td>64</td>\n",
       "      <td>64</td>\n",
       "    </tr>\n",
       "    <tr>\n",
       "      <th>2018-06-01 00:00:00</th>\n",
       "      <td>63</td>\n",
       "      <td>63</td>\n",
       "    </tr>\n",
       "    <tr>\n",
       "      <th>2018-07-01 00:00:00</th>\n",
       "      <td>47</td>\n",
       "      <td>47</td>\n",
       "    </tr>\n",
       "    <tr>\n",
       "      <th>2018-09-01 00:00:00</th>\n",
       "      <td>31</td>\n",
       "      <td>31</td>\n",
       "    </tr>\n",
       "    <tr>\n",
       "      <th>2018-10-01 00:00:00</th>\n",
       "      <td>44</td>\n",
       "      <td>44</td>\n",
       "    </tr>\n",
       "    <tr>\n",
       "      <th>2018-11-01 00:00:00</th>\n",
       "      <td>31</td>\n",
       "      <td>31</td>\n",
       "    </tr>\n",
       "    <tr>\n",
       "      <th>2018-12-01 00:00:00</th>\n",
       "      <td>48</td>\n",
       "      <td>48</td>\n",
       "    </tr>\n",
       "    <tr>\n",
       "      <th>2019-01-01 00:00:00</th>\n",
       "      <td>47</td>\n",
       "      <td>47</td>\n",
       "    </tr>\n",
       "    <tr>\n",
       "      <th>2019-02-01 00:00:00</th>\n",
       "      <td>46</td>\n",
       "      <td>46</td>\n",
       "    </tr>\n",
       "    <tr>\n",
       "      <th>2019-03-01 00:00:00</th>\n",
       "      <td>47</td>\n",
       "      <td>47</td>\n",
       "    </tr>\n",
       "    <tr>\n",
       "      <th>2019-04-01 00:00:00</th>\n",
       "      <td>48</td>\n",
       "      <td>48</td>\n",
       "    </tr>\n",
       "    <tr>\n",
       "      <th>2019-05-01 00:00:00</th>\n",
       "      <td>47</td>\n",
       "      <td>47</td>\n",
       "    </tr>\n",
       "    <tr>\n",
       "      <th>2019-06-01 00:00:00</th>\n",
       "      <td>63</td>\n",
       "      <td>63</td>\n",
       "    </tr>\n",
       "    <tr>\n",
       "      <th>2019-07-01 00:00:00</th>\n",
       "      <td>64</td>\n",
       "      <td>64</td>\n",
       "    </tr>\n",
       "    <tr>\n",
       "      <th>2019-08-01 00:00:00</th>\n",
       "      <td>59</td>\n",
       "      <td>59</td>\n",
       "    </tr>\n",
       "    <tr>\n",
       "      <th>Aug18</th>\n",
       "      <td>47</td>\n",
       "      <td>47</td>\n",
       "    </tr>\n",
       "  </tbody>\n",
       "</table>\n",
       "</div>"
      ],
      "text/plain": [
       "                     q_smeb_lentils  q_smeb_rice\n",
       "Month                                           \n",
       "2017-11-01 00:00:00              63           63\n",
       "2017-12-01 00:00:00              70           70\n",
       "2018-01-01 00:00:00              31           31\n",
       "2018-02-01 00:00:00              62           63\n",
       "2018-03-01 00:00:00              54           55\n",
       "2018-04-01 00:00:00              64           64\n",
       "2018-05-01 00:00:00              64           64\n",
       "2018-06-01 00:00:00              63           63\n",
       "2018-07-01 00:00:00              47           47\n",
       "2018-09-01 00:00:00              31           31\n",
       "2018-10-01 00:00:00              44           44\n",
       "2018-11-01 00:00:00              31           31\n",
       "2018-12-01 00:00:00              48           48\n",
       "2019-01-01 00:00:00              47           47\n",
       "2019-02-01 00:00:00              46           46\n",
       "2019-03-01 00:00:00              47           47\n",
       "2019-04-01 00:00:00              48           48\n",
       "2019-05-01 00:00:00              47           47\n",
       "2019-06-01 00:00:00              63           63\n",
       "2019-07-01 00:00:00              64           64\n",
       "2019-08-01 00:00:00              59           59\n",
       "Aug18                            47           47"
      ]
     },
     "execution_count": 6,
     "metadata": {},
     "output_type": "execute_result"
    }
   ],
   "source": [
    "smeb_only_df.groupby('Month')['q_smeb_lentils', 'q_smeb_rice'].count()"
   ]
  },
  {
   "cell_type": "markdown",
   "metadata": {},
   "source": [
    "Instead of calculating correlation over a months (since, the values within a month are not in order of time), we take the mean of the prices for each month, and plot against each other."
   ]
  },
  {
   "cell_type": "code",
   "execution_count": 12,
   "metadata": {
    "scrolled": true
   },
   "outputs": [
    {
     "data": {
      "text/plain": [
       "[<matplotlib.lines.Line2D at 0x7ff6a31fbf60>]"
      ]
     },
     "execution_count": 12,
     "metadata": {},
     "output_type": "execute_result"
    },
    {
     "data": {
      "image/png": "[encoded data removed]",
      "text/plain": [
       "<Figure size 432x288 with 1 Axes>"
      ]
     },
     "metadata": {
      "needs_background": "light"
     },
     "output_type": "display_data"
    }
   ],
   "source": [
    "sum_monthly = smeb_only_df.groupby('Month')['q_smeb_lentils', 'q_smeb_rice'].mean()\n",
    "plt.plot(sum_monthly['q_smeb_lentils'], sum_monthly['q_smeb_rice'], 'bo')"
   ]
  },
  {
   "cell_type": "markdown",
   "metadata": {},
   "source": [
    "The above plot indicates fair amount of positive correlation between rice and lentils over the 22 months"
   ]
  },
  {
   "cell_type": "markdown",
   "metadata": {},
   "source": [
    "## Wholesome Analysis"
   ]
  },
  {
   "cell_type": "markdown",
   "metadata": {},
   "source": [
    "Now, instead of just considering rice and lentils, we would like to view the correlation between all pairs of smeb values. For this, we define the following function called \"correlations\" that takes the mean price in each month and list of items as inputs and returns a dataframe with correlation between all pairs of items"
   ]
  },
  {
   "cell_type": "code",
   "execution_count": 5,
   "metadata": {},
   "outputs": [],
   "source": [
    "def correlations(mean_monthly, item_list):\n",
    "    n = len(item_list)\n",
    "    col_names = item_list\n",
    "    df_corr = pd.DataFrame(columns=[\"Item 1\", \"Item 2\", \"Corr\"])\n",
    "    df_corr[\"Item 1\"] = np.repeat(item_list, n)\n",
    "    df_corr[\"Item 2\"] = item_list*n\n",
    "    for i in range(n):\n",
    "        for j in range(i,n):\n",
    "            if not i==j:\n",
    "                try:\n",
    "                    df_corr.iloc[i*n+j, 2] = mean_monthly[item_list[i]].corr(mean_monthly[item_list[j]])\n",
    "                except:\n",
    "                    print(item_list[i], item_list[j])\n",
    "    return df_corr\n",
    "    "
   ]
  },
  {
   "cell_type": "markdown",
   "metadata": {},
   "source": [
    "We first check if there are certain pairs of items that are significantly negatively correlated. However, we do not find any!"
   ]
  },
  {
   "cell_type": "code",
   "execution_count": 10,
   "metadata": {
    "scrolled": true
   },
   "outputs": [
    {
     "data": {
      "text/html": [
       "<div>\n",
       "<style scoped>\n",
       "    .dataframe tbody tr th:only-of-type {\n",
       "        vertical-align: middle;\n",
       "    }\n",
       "\n",
       "    .dataframe tbody tr th {\n",
       "        vertical-align: top;\n",
       "    }\n",
       "\n",
       "    .dataframe thead th {\n",
       "        text-align: right;\n",
       "    }\n",
       "</style>\n",
       "<table border=\"1\" class=\"dataframe\">\n",
       "  <thead>\n",
       "    <tr style=\"text-align: right;\">\n",
       "      <th></th>\n",
       "      <th>Item 1</th>\n",
       "      <th>Item 2</th>\n",
       "      <th>Corr</th>\n",
       "    </tr>\n",
       "  </thead>\n",
       "  <tbody>\n",
       "    <tr>\n",
       "      <th>485</th>\n",
       "      <td>q_smeb_gbdata</td>\n",
       "      <td>q_smeb_potatoes</td>\n",
       "      <td>-0.415446</td>\n",
       "    </tr>\n",
       "    <tr>\n",
       "      <th>345</th>\n",
       "      <td>q_smeb_isoap</td>\n",
       "      <td>q_smeb_xrate</td>\n",
       "      <td>-0.371411</td>\n",
       "    </tr>\n",
       "    <tr>\n",
       "      <th>10</th>\n",
       "      <td>q_xrate_usdsyp_sell</td>\n",
       "      <td>q_smeb_isoap</td>\n",
       "      <td>-0.371411</td>\n",
       "    </tr>\n",
       "    <tr>\n",
       "      <th>477</th>\n",
       "      <td>q_smeb_gbdata</td>\n",
       "      <td>q_smeb_xrate</td>\n",
       "      <td>-0.341471</td>\n",
       "    </tr>\n",
       "    <tr>\n",
       "      <th>14</th>\n",
       "      <td>q_xrate_usdsyp_sell</td>\n",
       "      <td>q_smeb_gbdata</td>\n",
       "      <td>-0.341471</td>\n",
       "    </tr>\n",
       "  </tbody>\n",
       "</table>\n",
       "</div>"
      ],
      "text/plain": [
       "                  Item 1           Item 2      Corr\n",
       "485        q_smeb_gbdata  q_smeb_potatoes -0.415446\n",
       "345         q_smeb_isoap     q_smeb_xrate -0.371411\n",
       "10   q_xrate_usdsyp_sell     q_smeb_isoap -0.371411\n",
       "477        q_smeb_gbdata     q_smeb_xrate -0.341471\n",
       "14   q_xrate_usdsyp_sell    q_smeb_gbdata -0.341471"
      ]
     },
     "execution_count": 10,
     "metadata": {},
     "output_type": "execute_result"
    }
   ],
   "source": [
    "mean_monthly = smeb_only_df.groupby('Month').mean()\n",
    "item_list = list(smeb_only_df.columns[6:39])\n",
    "correlations(mean_monthly, item_list).sort_values('Corr').head()"
   ]
  },
  {
   "cell_type": "markdown",
   "metadata": {},
   "source": [
    "We sort the correlation between pairs in descending order and plot the **top 10** correlated pairs"
   ]
  },
  {
   "cell_type": "code",
   "execution_count": 14,
   "metadata": {
    "scrolled": false
   },
   "outputs": [
    {
     "data": {
      "image/png": "[encoded data removed]",
      "text/plain": [
       "<Figure size 432x288 with 1 Axes>"
      ]
     },
     "metadata": {
      "needs_background": "light"
     },
     "output_type": "display_data"
    },
    {
     "data": {
      "image/png": "[encoded data removed]",
      "text/plain": [
       "<Figure size 432x288 with 1 Axes>"
      ]
     },
     "metadata": {
      "needs_background": "light"
     },
     "output_type": "display_data"
    },
    {
     "data": {
      "image/png": "[encoded data removed]",
      "text/plain": [
       "<Figure size 432x288 with 1 Axes>"
      ]
     },
     "metadata": {
      "needs_background": "light"
     },
     "output_type": "display_data"
    },
    {
     "data": {
      "image/png": "[encoded data removed]",
      "text/plain": [
       "<Figure size 432x288 with 1 Axes>"
      ]
     },
     "metadata": {
      "needs_background": "light"
     },
     "output_type": "display_data"
    },
    {
     "data": {
      "image/png": "[encoded data removed]",
      "text/plain": [
       "<Figure size 432x288 with 1 Axes>"
      ]
     },
     "metadata": {
      "needs_background": "light"
     },
     "output_type": "display_data"
    },
    {
     "data": {
      "image/png": "[encoded data removed]",
      "text/plain": [
       "<Figure size 432x288 with 1 Axes>"
      ]
     },
     "metadata": {
      "needs_background": "light"
     },
     "output_type": "display_data"
    },
    {
     "data": {
      "image/png": "[encoded data removed]",
      "text/plain": [
       "<Figure size 432x288 with 1 Axes>"
      ]
     },
     "metadata": {
      "needs_background": "light"
     },
     "output_type": "display_data"
    },
    {
     "data": {
      "image/png": "[encoded data removed]",
      "text/plain": [
       "<Figure size 432x288 with 1 Axes>"
      ]
     },
     "metadata": {
      "needs_background": "light"
     },
     "output_type": "display_data"
    },
    {
     "data": {
      "image/png": "[encoded data removed]",
      "text/plain": [
       "<Figure size 432x288 with 1 Axes>"
      ]
     },
     "metadata": {
      "needs_background": "light"
     },
     "output_type": "display_data"
    },
    {
     "data": {
      "image/png": "[encoded data removed]",
      "text/plain": [
       "<Figure size 432x288 with 1 Axes>"
      ]
     },
     "metadata": {
      "needs_background": "light"
     },
     "output_type": "display_data"
    }
   ],
   "source": [
    "df_corr = correlations(mean_monthly, item_list).sort_values('Corr', ascending = False)\n",
    "\n",
    "for i in range(10):\n",
    "    item1 = df_corr.iloc[i,0]\n",
    "    item2 = df_corr.iloc[i,1]\n",
    "    x = smeb_only_df.groupby('Month')[item1].mean()\n",
    "    y = smeb_only_df.groupby('Month')[item2].mean()\n",
    "    plt.plot(x, y, 'bo')\n",
    "    plt.xlabel(item1)\n",
    "    plt.ylabel(item2)\n",
    "    plt.show()"
   ]
  },
  {
   "cell_type": "markdown",
   "metadata": {},
   "source": [
    "The above plots indicate some expected correlations, such as ghee and oil, cooking fuel and lpg, etc. however, we have some suprising (at least to us) correlations between sanitary pads and cooking oil"
   ]
  },
  {
   "cell_type": "markdown",
   "metadata": {},
   "source": [
    "We also observe an outlier in most of the above plot. We check if the outliers in the above plots belong to the same month"
   ]
  },
  {
   "cell_type": "code",
   "execution_count": 15,
   "metadata": {},
   "outputs": [
    {
     "name": "stdout",
     "output_type": "stream",
     "text": [
      "20\n",
      "1\n",
      "0\n",
      "0\n",
      "19\n",
      "0\n",
      "0\n",
      "0\n",
      "0\n",
      "0\n"
     ]
    }
   ],
   "source": [
    "for i in range(10):\n",
    "    item1 = df_corr.iloc[i,0]\n",
    "    item2 = df_corr.iloc[i,1]\n",
    "    x = list(smeb_only_df.groupby('Month')[item1].mean())\n",
    "    y = smeb_only_df.groupby('Month')[item2].mean()\n",
    "    print(x.index(max(x)))"
   ]
  },
  {
   "cell_type": "markdown",
   "metadata": {},
   "source": [
    "The above results shows, indeed the outlier in most cases is the first month (Index 0), i.e. November 2017. One needs to verfiy if there are some reasons for prices to be particularly high in that month"
   ]
  },
  {
   "cell_type": "markdown",
   "metadata": {},
   "source": [
    "# Conclusion"
   ]
  },
  {
   "cell_type": "markdown",
   "metadata": {},
   "source": [
    "The above analysis reveal that there are certain products whose prices tend to correlate \"significantly\". This information can be particularly useful in cases when data for one of the items is missing and we would still like to draw some inference (say volatility) of that item."
   ]
  },
  {
   "cell_type": "markdown",
   "metadata": {},
   "source": [
    "It is important to note that we aggregated the items by months and took their mean value, disregarding its location. However, it would be interesting to study if such correlation exists across all levels (gov, sbd, districts, towns) or do they break in certain areas."
   ]
  }
 ],
 "metadata": {
  "kernelspec": {
   "display_name": "Python 3",
   "language": "python",
   "name": "python3"
  },
  "language_info": {
   "codemirror_mode": {
    "name": "ipython",
    "version": 3
   },
   "file_extension": ".py",
   "mimetype": "text/x-python",
   "name": "python",
   "nbconvert_exporter": "python",
   "pygments_lexer": "ipython3",
   "version": "3.6.8"
  }
 },
 "nbformat": 4,
 "nbformat_minor": 2
}
