{
 "cells": [
  {
   "cell_type": "markdown",
   "metadata": {},
   "source": [
    "Load necessary packages"
   ]
  },
  {
   "cell_type": "code",
   "execution_count": null,
   "metadata": {},
   "outputs": [],
   "source": [
    "library(tidyverse)"
   ]
  },
  {
   "cell_type": "markdown",
   "metadata": {},
   "source": [
    "Load the data"
   ]
  },
  {
   "cell_type": "code",
   "execution_count": null,
   "metadata": {},
   "outputs": [],
   "source": [
    "df_joined_months = read_csv('aggregated_monthly_df.csv')\n",
    "df_long = read_csv('joint_monthly_df_long.csv')"
   ]
  },
  {
   "cell_type": "markdown",
   "metadata": {},
   "source": [
    "Define the columns, denoting the regions"
   ]
  },
  {
   "cell_type": "code",
   "execution_count": null,
   "metadata": {},
   "outputs": [],
   "source": [
    "regional_columns = c(\"region\", \"q_gov\", \"q_district\", \"q_sbd\", \"q_town\")"
   ]
  },
  {
   "cell_type": "markdown",
   "metadata": {},
   "source": [
    "Find towns, that belong to several regions within one month"
   ]
  },
  {
   "cell_type": "code",
   "execution_count": null,
   "metadata": {},
   "outputs": [],
   "source": [
    "towns_distinct_weird = df_joined %>%\n",
    "  select(one_of(c(regional_columns, 'month'))) %>%\n",
    "  #worth checking with and without distinct\n",
    "  distinct() %>%\n",
    "  group_by(q_town, month) %>%\n",
    "  summarize(n = n()) %>%\n",
    "  arrange(desc(n), q_town)\n",
    "View(towns_distinct_weird)"
   ]
  },
  {
   "cell_type": "markdown",
   "metadata": {},
   "source": [
    "#this will show which towns have non-unique regional info"
   ]
  },
  {
   "cell_type": "code",
   "execution_count": null,
   "metadata": {},
   "outputs": [],
   "source": [
    "towns_weird_no_distinct = df_joined %>%\n",
    "  select(one_of(c(regional_columns, 'month'))) %>%\n",
    "  #worth checking with and without distinct\n",
    "  group_by(q_town, month) %>%\n",
    "  summarize(n = n())%>%\n",
    "  arrange(desc(n), q_town)\n",
    "\n",
    "\n",
    "View(towns_weird_no_distinct %>% arrange(desc(n)))"
   ]
  },
  {
   "cell_type": "markdown",
   "metadata": {},
   "source": [
    "to understand, in how many months each item is represented at least once"
   ]
  },
  {
   "cell_type": "code",
   "execution_count": null,
   "metadata": {},
   "outputs": [],
   "source": [
    "#to understand, in how many months each\n",
    "\n",
    "towns_representation = df_long %>%\n",
    "  select(one_of(c(regional_columns, 'month','item'))) %>%\n",
    "  distinct() %>%\n",
    "  group_by(q_town, item) %>%\n",
    "  summarize(n = n()) %>%\n",
    "  arrange(desc(n), q_town, item)\n"
   ]
  },
  {
   "cell_type": "markdown",
   "metadata": {},
   "source": [
    "to understand, in how many towns each item is represented"
   ]
  },
  {
   "cell_type": "code",
   "execution_count": null,
   "metadata": {},
   "outputs": [],
   "source": [
    "df_long = read_csv('joint_monthly_df_long.csv')\n",
    "towns_representation = df_long %>%\n",
    "  select(one_of(c(regional_columns, 'month','item'))) %>%\n",
    "  distinct() %>%\n",
    "  group_by(item, month) %>%\n",
    "  summarize(n = n())%>%\n",
    "  arrange(desc(n), item, month)"
   ]
  }
 ],
 "metadata": {
  "kernelspec": {
   "display_name": "R",
   "language": "R",
   "name": "ir"
  },
  "language_info": {
   "codemirror_mode": "r",
   "file_extension": ".r",
   "mimetype": "text/x-r-source",
   "name": "R",
   "pygments_lexer": "r",
   "version": "3.6.1"
  }
 },
 "nbformat": 4,
 "nbformat_minor": 2
}
