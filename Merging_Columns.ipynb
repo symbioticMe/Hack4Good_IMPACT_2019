{
 "cells": [
  {
   "cell_type": "code",
   "execution_count": 1,
   "metadata": {},
   "outputs": [],
   "source": [
    "import pandas as pd\n",
    "import numpy as np\n",
    "import matplotlib.pyplot as plt"
   ]
  },
  {
   "cell_type": "code",
   "execution_count": 3,
   "metadata": {},
   "outputs": [],
   "source": [
    "# Reading the entire csv with all the sheets\n",
    "big_data = pd.ExcelFile(\"MM_for_nov17_aug19.xlsx\")"
   ]
  },
  {
   "cell_type": "code",
   "execution_count": 6,
   "metadata": {},
   "outputs": [],
   "source": [
    "# Sheet names\n",
    "months = big_data.sheet_names"
   ]
  },
  {
   "cell_type": "code",
   "execution_count": 21,
   "metadata": {},
   "outputs": [],
   "source": [
    "# List of columns that contains prices and are present for all months\n",
    "columns_required = [\"q_bread_price_per_8pieces\", \"q_bulgur_price_per_kilo\", \"q_chicken_price_per_kilo\",\n",
    "\"q_eggs_price_per_30eggs\", \"q_potatoes_price_per_kilo\", \"q_tomatoes_price_per_kilo\",\n",
    "\"q_cucumbers_price\", \"q_onions_price\", \"q_ghee_price_per_kilo\",\n",
    "\"q_oil_price_per_litre\", \"q_rlentils_price_per_kilo\", \"q_rice_price_per_kilo\",\n",
    "\"q_salt_price_per_500g\", \"q_sugar_price_per_kilo\", \"q_tomatop_price\",\n",
    "\"q_isoap_price_per_piece\", \"q_lsoap_price_per_kilo\", \"q_dsoap_price_per_litre\",\n",
    "\"q_spads_price_per_10pads\", \"q_toothp_price_per_100g\", \"q_sgas_price\",\n",
    "\"q_mrkaz_price\", \"q_water_price_per_litre\", \"q_data_price_per_gb\",\n",
    "\"region\", \"q_gov\", \"q_district\", \"q_sbd\", \"q_town\",\n",
    "\"q_xrate_usdsyp_buy\", \"q_xrate_usdsyp_sell\", \"q_xrate_trysyp_buy\",\n",
    "\"q_xrate_trysyp_sell\", \"q_xrate_jodsyp_buy\", \"q_xrate_jodsyp_sell\"]"
   ]
  },
  {
   "cell_type": "code",
   "execution_count": 7,
   "metadata": {},
   "outputs": [
    {
     "data": {
      "text/plain": [
       "['Nov 17',\n",
       " 'Dec 17',\n",
       " 'Jan 18',\n",
       " 'Feb 18',\n",
       " 'March 18',\n",
       " 'April 18',\n",
       " 'May 18',\n",
       " 'June 18',\n",
       " 'July 18',\n",
       " 'Aug18',\n",
       " 'Sep 18',\n",
       " 'Oct 18',\n",
       " 'Nov 18',\n",
       " 'Dec 18',\n",
       " 'Jan 19',\n",
       " 'Feb 19',\n",
       " 'March 19',\n",
       " 'April 19',\n",
       " 'May 19',\n",
       " 'June 19',\n",
       " 'July 19',\n",
       " 'Aug 19']"
      ]
     },
     "execution_count": 7,
     "metadata": {},
     "output_type": "execute_result"
    }
   ],
   "source": [
    "months"
   ]
  },
  {
   "cell_type": "code",
   "execution_count": 9,
   "metadata": {},
   "outputs": [],
   "source": [
    "# Creating an empty dataframe with all the required columns\n",
    "df = pd.DataFrame(columns = columns_required)"
   ]
  },
  {
   "cell_type": "code",
   "execution_count": 23,
   "metadata": {},
   "outputs": [],
   "source": [
    "# Creating a list of dataframe containing only the required columns for each month\n",
    "df_months = []\n",
    "for mon in months:\n",
    "    n = len(big_data.parse(mon))\n",
    "    month_col = [mon]*n\n",
    "    df_mon = big_data.parse(mon)\n",
    "    df_mon = df_mon[columns_required]\n",
    "    df_mon['Month'] = month_col # adding column \"Month\" with repeated Month name\n",
    "    df_months.append(df_mon)"
   ]
  },
  {
   "cell_type": "code",
   "execution_count": 26,
   "metadata": {},
   "outputs": [],
   "source": [
    "all_prices_df = pd.concat(df_months) # Merging all months into one"
   ]
  },
  {
   "cell_type": "code",
   "execution_count": 27,
   "metadata": {},
   "outputs": [],
   "source": [
    "all_prices_df.to_csv(\"aggregated_monthly.csv\")"
   ]
  }
 ],
 "metadata": {
  "kernelspec": {
   "display_name": "Python 3",
   "language": "python",
   "name": "python3"
  },
  "language_info": {
   "codemirror_mode": {
    "name": "ipython",
    "version": 3
   },
   "file_extension": ".py",
   "mimetype": "text/x-python",
   "name": "python",
   "nbconvert_exporter": "python",
   "pygments_lexer": "ipython3",
   "version": "3.6.8"
  }
 },
 "nbformat": 4,
 "nbformat_minor": 2
}
